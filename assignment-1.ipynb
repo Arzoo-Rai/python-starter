{
 "cells": [
  {
   "cell_type": "code",
   "execution_count": 2,
   "metadata": {},
   "outputs": [
    {
     "name": "stdout",
     "output_type": "stream",
     "text": [
      "please enter first namearzoo\n",
      "enter last namerai\n",
      "reversed name isoozra iar\n"
     ]
    }
   ],
   "source": [
    "fname = input(\"please enter first name\")\n",
    "lname = input(\"enter last name\")\n",
    "print(\"reversed name is\"+fname[::-1]+\" \"+lname[::-1])"
   ]
  },
  {
   "cell_type": "code",
   "execution_count": 4,
   "metadata": {},
   "outputs": [
    {
     "name": "stdout",
     "output_type": "stream",
     "text": [
      "904.3199999999998\n"
     ]
    }
   ],
   "source": [
    "def getVolume(diameter):\n",
    "    pi = 3.14\n",
    "    return pi*(4/3)*(diameter/2)*(diameter/2)*(diameter/2)\n",
    "print(getVolume(12))"
   ]
  },
  {
   "cell_type": "code",
   "execution_count": 5,
   "metadata": {},
   "outputs": [
    {
     "name": "stdout",
     "output_type": "stream",
     "text": [
      "enter comma separated valuearzoo,rai\n",
      "arzoo\n",
      "rai\n"
     ]
    }
   ],
   "source": [
    "userinput = input(\"enter comma separated value\")\n",
    "lists = list(userinput.split(\",\"))\n",
    "for ls in lists:\n",
    "    print(ls)"
   ]
  },
  {
   "cell_type": "code",
   "execution_count": 12,
   "metadata": {},
   "outputs": [
    {
     "name": "stdout",
     "output_type": "stream",
     "text": [
      "\n",
      "*\n",
      "**\n",
      "***\n",
      "****\n",
      "*****\n",
      "****\n",
      "***\n",
      "**\n",
      "*\n",
      "\n"
     ]
    }
   ],
   "source": [
    "count = 6\n",
    "for i in range(count):\n",
    "    print(\"*\"*i)\n",
    "    if(i == count-1):\n",
    "        while i>0:\n",
    "            i = i-1\n",
    "            print(\"*\"*i)\n",
    "            "
   ]
  },
  {
   "cell_type": "code",
   "execution_count": 14,
   "metadata": {},
   "outputs": [
    {
     "name": "stdout",
     "output_type": "stream",
     "text": [
      "enter something!test\n",
      "tset\n"
     ]
    }
   ],
   "source": [
    "userinput = input(\"enter something!\")\n",
    "print(userinput[::-1])"
   ]
  },
  {
   "cell_type": "code",
   "execution_count": 22,
   "metadata": {},
   "outputs": [],
   "source": [
    "str = \"\"\"WE, THE PEOPLE OF INDIA, having solemnly resolved \n",
    "to constitute India into a SOVEREIGN, SOCIALIST, SECULAR, DEMOCRATIC REPUBLIC and to secure to all its citizens \"\"\""
   ]
  },
  {
   "cell_type": "code",
   "execution_count": null,
   "metadata": {},
   "outputs": [],
   "source": []
  }
 ],
 "metadata": {
  "kernelspec": {
   "display_name": "Python 3",
   "language": "python",
   "name": "python3"
  },
  "language_info": {
   "codemirror_mode": {
    "name": "ipython",
    "version": 3
   },
   "file_extension": ".py",
   "mimetype": "text/x-python",
   "name": "python",
   "nbconvert_exporter": "python",
   "pygments_lexer": "ipython3",
   "version": "3.7.1"
  }
 },
 "nbformat": 4,
 "nbformat_minor": 2
}
