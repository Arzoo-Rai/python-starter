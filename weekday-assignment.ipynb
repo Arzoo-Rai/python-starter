{
 "cells": [
  {
   "cell_type": "code",
   "execution_count": 29,
   "metadata": {},
   "outputs": [
    {
     "name": "stdout",
     "output_type": "stream",
     "text": [
      "Connection Successful\n",
      "{'_id': ObjectId('5dbc3d8c2b9b47938271523f'), 'key1': 'value1', 'key2': 'value2'}\n",
      "{'_id': ObjectId('5dbc3e122b9b479382715241'), 'key1': 'value1', 'key2': 'value2'}\n",
      "{'_id': ObjectId('5dbc3e162b9b479382715243'), 'key1': 'value1', 'key2': 'value2'}\n",
      "{'_id': ObjectId('5dbc5eea2b9b479382715245'), 'key1': 'value1', 'key2': 'value2'}\n",
      "{'_id': ObjectId('5dbc5ef72b9b479382715247'), 'key1': 'value1', 'key2': 'value2'}\n",
      "{'_id': ObjectId('5dbc5f082b9b479382715249'), 'key1': 'value1', 'key2': 'value2'}\n",
      "{'_id': ObjectId('5dbc5f382b9b47938271524b'), 'key1': 'value1', 'key2': 'value2'}\n",
      "{'_id': ObjectId('5dc45a907b56d54b1f7dfd17'), 'key1': 'value2', 'key2': 'value2'}\n",
      "{'_id': ObjectId('5dc45c9b7b56d54b1f7dfd1f'), 'key1': 'value1', 'key2': 'value2'}\n",
      "{'_id': ObjectId('5dc45ca67b56d54b1f7dfd21'), 'key1': 'value1', 'key2': 'value2'}\n",
      "{'_id': ObjectId('5dc99ab0f57b29ffe5c67a11'), 'key1': 'value1', 'key2': 'value2'}\n",
      "{'_id': ObjectId('5dc99ac3f57b29ffe5c67a13'), 'key1': 'value1', 'key2': 'value2'}\n",
      "{'_id': ObjectId('5dc99aeef57b29ffe5c67a15'), 'key1': 'value1', 'key2': 'value2'}\n"
     ]
    }
   ],
   "source": [
    "from pymongo import MongoClient\n",
    "from random import randint\n",
    "try:\n",
    "    \n",
    "    client = MongoClient(\"mongodb://127.0.0.1:27017\")\n",
    "    print(\"Connection Successful\")\n",
    "    db=client.testdb\n",
    "    testdata={\"key1\":\"value1\",\"key2\":\"value2\"}\n",
    "    db.test.insert_one(testdata)\n",
    "    records = db.test.find()\n",
    "    for x in records:\n",
    "        print(x)\n",
    "    for x in records:\n",
    "        print(x)\n",
    "except Exception as e:\n",
    "    print(e)\n"
   ]
  },
  {
   "cell_type": "code",
   "execution_count": 26,
   "metadata": {},
   "outputs": [
    {
     "name": "stdout",
     "output_type": "stream",
     "text": [
      "enter number5\n",
      "factorial of 5 is 120\n"
     ]
    }
   ],
   "source": [
    "class InvalidFactorial(Exception):\n",
    "    pass\n",
    "\n",
    "\n",
    "def genFact(n):\n",
    "    if n>1:\n",
    "         yield n*next(genFact(n-1))\n",
    "    yield 1\n",
    "    \n",
    "def calculateFactorial():\n",
    "    num = int(input(\"enter number\"))\n",
    "    try:\n",
    "        if num<1:\n",
    "            raise InvalidFactorial('Negative factorial error')\n",
    "        ls = [x for x in genFact(num)]\n",
    "        print(\"factorial of {} is {}\".format(num,ls[0]))\n",
    "    except Exception as e:\n",
    "        print(e)\n",
    "    \n",
    "calculateFactorial()"
   ]
  },
  {
   "cell_type": "code",
   "execution_count": null,
   "metadata": {},
   "outputs": [],
   "source": []
  }
 ],
 "metadata": {
  "kernelspec": {
   "display_name": "Python 3",
   "language": "python",
   "name": "python3"
  },
  "language_info": {
   "codemirror_mode": {
    "name": "ipython",
    "version": 3
   },
   "file_extension": ".py",
   "mimetype": "text/x-python",
   "name": "python",
   "nbconvert_exporter": "python",
   "pygments_lexer": "ipython3",
   "version": "3.7.1"
  }
 },
 "nbformat": 4,
 "nbformat_minor": 2
}
