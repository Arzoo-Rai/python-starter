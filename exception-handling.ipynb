{
 "cells": [
  {
   "cell_type": "code",
   "execution_count": 6,
   "metadata": {},
   "outputs": [
    {
     "name": "stdout",
     "output_type": "stream",
     "text": [
      "error [Errno 2] No such file or directory: 'testfilerew'\n"
     ]
    }
   ],
   "source": [
    "try:\n",
    "    f = open('testfilerew','r')\n",
    "    f.write('Test write this')\n",
    "    print(\"Success\")\n",
    "except IOError as e:\n",
    "    print(\"error\",e)\n",
    "    #print(\"wrewrew\",e)"
   ]
  },
  {
   "cell_type": "code",
   "execution_count": 10,
   "metadata": {},
   "outputs": [
    {
     "name": "stdout",
     "output_type": "stream",
     "text": [
      "error not writable\n"
     ]
    }
   ],
   "source": [
    "try:\n",
    "    f = open('testfilerew','r')\n",
    "    f.write('Test write this')\n",
    "    print(\"Success\")\n",
    "except  Exception as e:\n",
    "    print(\"error\",e)\n",
    "    #print(\"wrewrew\",e)\n",
    "else:\n",
    "    print('Content writtent ')\n",
    "    f.close()"
   ]
  },
  {
   "cell_type": "code",
   "execution_count": null,
   "metadata": {},
   "outputs": [],
   "source": []
  }
 ],
 "metadata": {
  "kernelspec": {
   "display_name": "Python 3",
   "language": "python",
   "name": "python3"
  },
  "language_info": {
   "codemirror_mode": {
    "name": "ipython",
    "version": 3
   },
   "file_extension": ".py",
   "mimetype": "text/x-python",
   "name": "python",
   "nbconvert_exporter": "python",
   "pygments_lexer": "ipython3",
   "version": "3.7.1"
  }
 },
 "nbformat": 4,
 "nbformat_minor": 2
}
