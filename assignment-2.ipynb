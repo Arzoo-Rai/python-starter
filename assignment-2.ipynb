{
 "cells": [
  {
   "cell_type": "code",
   "execution_count": 7,
   "metadata": {},
   "outputs": [
    {
     "name": "stdout",
     "output_type": "stream",
     "text": [
      "10\n"
     ]
    }
   ],
   "source": [
    "def myreduce(func,list):\n",
    "    sum = 0\n",
    "    for i in range(0,len(list),2):\n",
    "        sum = func(sum,list[i+1])\n",
    "    return func(sum,list[len(list)-1])\n",
    "\n",
    "func = lambda x,y:x+y\n",
    "ls = [1,2,3,4]\n",
    "\n",
    "try:\n",
    "    print(myreduce(func,ls))    \n",
    "except Exception as e:\n",
    "    \n",
    "    print(e)\n",
    "\n",
    "        "
   ]
  },
  {
   "cell_type": "code",
   "execution_count": 12,
   "metadata": {},
   "outputs": [
    {
     "name": "stdout",
     "output_type": "stream",
     "text": [
      "2\n",
      "4\n",
      "[2, 4]\n"
     ]
    }
   ],
   "source": [
    "def myfilter(func,list):\n",
    "    out =[]\n",
    "    for i in list:\n",
    "        if(func(i)):\n",
    "            print(i)\n",
    "            out.append(i)\n",
    "            \n",
    "    return out\n",
    "            \n",
    "lam = lambda x : x%2==0\n",
    "inputlist = [1,2,3,4]\n",
    "output = myfilter(lam,inputlist)\n",
    "print(output)\n",
    "    "
   ]
  },
  {
   "cell_type": "code",
   "execution_count": 16,
   "metadata": {},
   "outputs": [
    {
     "data": {
      "text/plain": [
       "['A', 'C', 'A', 'D', 'G', 'I', 'L', 'D']"
      ]
     },
     "execution_count": 16,
     "metadata": {},
     "output_type": "execute_result"
    }
   ],
   "source": [
    "xyz = 'ACADGILD'\n",
    "[xyz[i] for i in range(len(xyz)) ]"
   ]
  },
  {
   "cell_type": "code",
   "execution_count": 37,
   "metadata": {},
   "outputs": [
    {
     "data": {
      "text/plain": [
       "['x', 'xx', 'xxx', 'xxxx', 'y', 'yy', 'yyy', 'yyyy', 'z', 'zz', 'zzz', 'zzzz']"
      ]
     },
     "execution_count": 37,
     "metadata": {},
     "output_type": "execute_result"
    }
   ],
   "source": [
    "xyz = 'xyz'\n",
    "length = len(xyz)\n",
    "count=4\n",
    "[(xyz[int(i/count)-1]*count) if i%count==0 else xyz[int(i/count)]*(i%count) for i in range(1,13) ]"
   ]
  },
  {
   "cell_type": "code",
   "execution_count": 80,
   "metadata": {},
   "outputs": [
    {
     "data": {
      "text/plain": [
       "['x', 'y', 'z', 'xx', 'xx', 'yy', 'zz', 'xxx', 'xxx', 'yyy', 'zzz', 'xxxx']"
      ]
     },
     "execution_count": 80,
     "metadata": {},
     "output_type": "execute_result"
    }
   ],
   "source": [
    "xyz = 'xyz'\n",
    "length = len(xyz)\n",
    "count=4\n",
    "[xyz[(i%count)-1]*(int(i/count)+1) if i%count!=0 else xyz[(i%count)]*(int(i/count)+1) for i in range(1,13) ]"
   ]
  },
  {
   "cell_type": "code",
   "execution_count": 86,
   "metadata": {},
   "outputs": [
    {
     "data": {
      "text/plain": [
       "[[2], [3], [4], [3], [4], [5], [4], [5], [6], [5]]"
      ]
     },
     "execution_count": 86,
     "metadata": {},
     "output_type": "execute_result"
    }
   ],
   "source": [
    "lists = [2,3,4]\n",
    "length = len(list)\n",
    "count=3\n",
    "[[lists[int(i%count)]] if int(i/3) == 0 else [lists[int(i%count)]+int(i/count)] for i in range(0,10)]"
   ]
  },
  {
   "cell_type": "code",
   "execution_count": 89,
   "metadata": {},
   "outputs": [
    {
     "data": {
      "text/plain": [
       "[[2, 3, 4, 5], [3, 4, 5, 6], [4, 5, 6, 7], [5, 6, 7, 8]]"
      ]
     },
     "execution_count": 89,
     "metadata": {},
     "output_type": "execute_result"
    }
   ],
   "source": [
    "ls = [2,3,4,5]\n",
    "length = len(ls)\n",
    "count = 4\n",
    "[[ls[j]+i for j in range(0,4) ] for i in range(0,length)]"
   ]
  },
  {
   "cell_type": "code",
   "execution_count": 106,
   "metadata": {},
   "outputs": [
    {
     "data": {
      "text/plain": [
       "[(1, 1), (2, 1), (3, 1), (1, 2), (2, 2), (3, 2), (1, 3), (2, 3), (3, 3)]"
      ]
     },
     "execution_count": 106,
     "metadata": {},
     "output_type": "execute_result"
    }
   ],
   "source": [
    "[((i%3)+1,int(i/3)+1) for i in range (0,9)]"
   ]
  },
  {
   "cell_type": "code",
   "execution_count": 8,
   "metadata": {},
   "outputs": [
    {
     "name": "stdout",
     "output_type": "stream",
     "text": [
      "please enter side a length separated by comma like a,b,c10,10,10\n",
      "43.30127018922193\n"
     ]
    }
   ],
   "source": [
    "class Shape:\n",
    "    \n",
    "        \n",
    "    def takeUserInput(self):\n",
    "        sides = input(\"please enter side a length separated by comma like a,b,c\").split(\",\")\n",
    "        self.a = float(sides[0])\n",
    "        self.b = float(sides[1])\n",
    "        self.c = float(sides[2])\n",
    "        \n",
    "class Triangle(Shape):\n",
    "    def __init__(self,*args):\n",
    "        super(Triangle,self).__init__(*args)\n",
    "    \n",
    "    def getArea(self):\n",
    "        perimeter = (self.a+self.b+self.c)/2\n",
    "        area = (perimeter*(perimeter-self.a)*(perimeter-self.b)*(perimeter-self.c))**0.5\n",
    "        return area\n",
    " \n",
    "tr = Triangle()\n",
    "tr.takeUserInput()\n",
    "print(tr.getArea())\n",
    "\n",
    "\n",
    "        "
   ]
  },
  {
   "cell_type": "code",
   "execution_count": 9,
   "metadata": {},
   "outputs": [
    {
     "name": "stdout",
     "output_type": "stream",
     "text": [
      "please enter words separated by comma arzoo,rai\n"
     ]
    },
    {
     "data": {
      "text/plain": [
       "['arzoo', 'rai']"
      ]
     },
     "execution_count": 9,
     "metadata": {},
     "output_type": "execute_result"
    }
   ],
   "source": [
    "words = input(\"please enter words separated by comma \").split(\",\")\n",
    "words"
   ]
  },
  {
   "cell_type": "code",
   "execution_count": 14,
   "metadata": {},
   "outputs": [
    {
     "name": "stdout",
     "output_type": "stream",
     "text": [
      "please enter words separated by comma arzoo,rai,sudhanshu,iti\n",
      "['arzoo', 'sudhanshu']\n"
     ]
    }
   ],
   "source": [
    "def filter_long_words():\n",
    "    words = input(\"please enter words separated by comma \").split(\",\")\n",
    "    max= 4\n",
    "    filteredlist = list(filter(lambda x: len(x)>4,words))\n",
    "    return filteredlist\n",
    "print(filter_long_words())"
   ]
  },
  {
   "cell_type": "code",
   "execution_count": 15,
   "metadata": {},
   "outputs": [
    {
     "name": "stdout",
     "output_type": "stream",
     "text": [
      "please enter words separated by commatest,test,iuouoiojioshuhaha\n",
      "[4, 4, 17]\n"
     ]
    }
   ],
   "source": [
    "def map_length_of_word():\n",
    "    words = input(\"please enter words separated by comma\").split(\",\")\n",
    "    return list(map(lambda x :len(x),words))\n",
    "\n",
    "print(map_length_of_word())"
   ]
  },
  {
   "cell_type": "code",
   "execution_count": 25,
   "metadata": {},
   "outputs": [
    {
     "name": "stdout",
     "output_type": "stream",
     "text": [
      "enter character to check  h\n",
      "False\n"
     ]
    }
   ],
   "source": [
    "def is_vowel(char):\n",
    "    vowels = ['A', 'E', 'I','O','U','a','e','i','o','u']\n",
    "    return vowels.count(char)>0\n",
    "\n",
    "char = input(\"enter character to check  \")\n",
    "print(is_vowel(char))\n",
    "    "
   ]
  },
  {
   "cell_type": "code",
   "execution_count": null,
   "metadata": {},
   "outputs": [],
   "source": []
  }
 ],
 "metadata": {
  "kernelspec": {
   "display_name": "Python 3",
   "language": "python",
   "name": "python3"
  },
  "language_info": {
   "codemirror_mode": {
    "name": "ipython",
    "version": 3
   },
   "file_extension": ".py",
   "mimetype": "text/x-python",
   "name": "python",
   "nbconvert_exporter": "python",
   "pygments_lexer": "ipython3",
   "version": "3.7.1"
  }
 },
 "nbformat": 4,
 "nbformat_minor": 2
}
