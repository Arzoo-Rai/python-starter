{
 "cells": [
  {
   "cell_type": "code",
   "execution_count": null,
   "metadata": {},
   "outputs": [],
   "source": [
    "inputFile = open('input.text','a+')\n",
    "try:\n",
    "    txt = input(\"please enter text to be written\")\n",
    "    if txt.isalpha():\n",
    "        inputFile.write(\"\\n\"+txt)\n",
    "    else:\n",
    "         raise NameError(\"number entered\")\n",
    "except Exception as e:\n",
    "    print(e)\n",
    "finally:\n",
    "    inputFile.close()\n",
    "    print(\"input lines have been written succesfully\")"
   ]
  },
  {
   "cell_type": "code",
   "execution_count": null,
   "metadata": {},
   "outputs": [],
   "source": [
    "\n",
    "from pymongo import MongoClient\n",
    "from random import randint\n",
    "try:\n",
    "    \n",
    "    client = MongoClient(\"mongodb://127.0.0.1:27017\")\n",
    "    print(\"Connection Successful\")\n",
    "    db=client.testdb\n",
    "    testdata={\"key1\":\"value1\",\"key2\":\"value2\"}\n",
    "    db.test.insert_one(testdata)\n",
    "    records = db.test.find()\n",
    "    print(\"total records\",len())\n",
    "    for x in records:\n",
    "        print(x)\n",
    "except Exception as e:\n",
    "    print(e)\n"
   ]
  },
  {
   "cell_type": "code",
   "execution_count": null,
   "metadata": {},
   "outputs": [],
   "source": []
  }
 ],
 "metadata": {
  "kernelspec": {
   "display_name": "Python 3",
   "language": "python",
   "name": "python3"
  },
  "language_info": {
   "codemirror_mode": {
    "name": "ipython",
    "version": 3
   },
   "file_extension": ".py",
   "mimetype": "text/x-python",
   "name": "python",
   "nbconvert_exporter": "python",
   "pygments_lexer": "ipython3",
   "version": "3.7.1"
  }
 },
 "nbformat": 4,
 "nbformat_minor": 2
}
